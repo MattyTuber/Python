{
 "cells": [
  {
   "cell_type": "markdown",
   "metadata": {},
   "source": [
    "# Notebook example"
   ]
  },
  {
   "cell_type": "code",
   "execution_count": null,
   "metadata": {},
   "outputs": [],
   "source": [
    "# from google.colab import drive\n",
    "# drive.mount('/gdrive')"
   ]
  },
  {
   "cell_type": "code",
   "execution_count": null,
   "metadata": {},
   "outputs": [],
   "source": [
    "# %cd /gdrive/MyDrive/"
   ]
  },
  {
   "cell_type": "code",
   "execution_count": null,
   "metadata": {},
   "outputs": [],
   "source": [
    "# Uncomment to install cache, start a cell with %%cache -d _cache filename to avoid repeating each time\n",
    "# a long computaion\n",
    "# !pip install git+https://github.com/rossant/ipycache"
   ]
  }
 ],
 "metadata": {
  "interpreter": {
   "hash": "3295955e7263501a8877aebadfc879a82c5bb777db29f16c95aff12d06b7b5bf"
  },
  "kernelspec": {
   "display_name": "Python 3.9.7 64-bit ('ann_tf_env': conda)",
   "language": "python",
   "name": "python3"
  },
  "language_info": {
   "name": "python",
   "version": "3.9.7"
  },
  "orig_nbformat": 4
 },
 "nbformat": 4,
 "nbformat_minor": 2
}
